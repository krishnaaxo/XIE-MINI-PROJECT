{
  "nbformat": 4,
  "nbformat_minor": 0,
  "metadata": {
    "colab": {
      "name": "highestaccuracyFinal---vgg19.ipynb",
      "provenance": [],
      "collapsed_sections": [],
      "include_colab_link": true
    },
    "kernelspec": {
      "display_name": "Python 3",
      "name": "python3"
    }
  },
  "cells": [
    {
      "cell_type": "markdown",
      "metadata": {
        "id": "view-in-github",
        "colab_type": "text"
      },
      "source": [
        "<a href=\"https://colab.research.google.com/github/krishnaaxo/project1/blob/main/highestaccuracyFinal_vgg19.ipynb\" target=\"_parent\"><img src=\"https://colab.research.google.com/assets/colab-badge.svg\" alt=\"Open In Colab\"/></a>"
      ]
    },
    {
      "cell_type": "code",
      "metadata": {
        "colab": {
          "base_uri": "https://localhost:8080/"
        },
        "id": "uhdDbHB9UrTX",
        "outputId": "bd883a30-bbd8-4179-89f0-b9413484804e"
      },
      "source": [
        "from google.colab import drive\n",
        "drive.mount('/content/drive')"
      ],
      "execution_count": 3,
      "outputs": [
        {
          "output_type": "stream",
          "text": [
            "Drive already mounted at /content/drive; to attempt to forcibly remount, call drive.mount(\"/content/drive\", force_remount=True).\n"
          ],
          "name": "stdout"
        }
      ]
    },
    {
      "cell_type": "code",
      "metadata": {
        "colab": {
          "base_uri": "https://localhost:8080/"
        },
        "id": "qE9d-6TTrTLO",
        "outputId": "0fcbf556-3552-430a-c467-da2c07c7deb6"
      },
      "source": [
        "!ls '/content/drive'\r\n"
      ],
      "execution_count": 4,
      "outputs": [
        {
          "output_type": "stream",
          "text": [
            "MyDrive  Shareddrives\n"
          ],
          "name": "stdout"
        }
      ]
    },
    {
      "cell_type": "code",
      "metadata": {
        "id": "FDMjs551vIXl"
      },
      "source": [
        "from tensorflow.compat.v1 import ConfigProto\r\n",
        "from tensorflow.compat.v1 import InteractiveSession\r\n",
        "\r\n",
        "config = ConfigProto()\r\n",
        "config.gpu_options.per_process_gpu_memory_fraction = 0.5\r\n",
        "config.gpu_options.allow_growth = True\r\n",
        "session = InteractiveSession(config=config)"
      ],
      "execution_count": 5,
      "outputs": []
    },
    {
      "cell_type": "code",
      "metadata": {
        "id": "C6HotZI8sOeE"
      },
      "source": [
        "from tensorflow.keras.layers import Input, Lambda, Dense, Flatten\r\n",
        "from tensorflow.keras.models import Model\r\n",
        "from tensorflow.keras.applications.vgg19 import VGG19\r\n",
        "#from keras.applications.vgg16 import VGG16\r\n",
        "from tensorflow.keras.applications.vgg19 import preprocess_input\r\n",
        "from tensorflow.keras.preprocessing import image\r\n",
        "from tensorflow.keras.preprocessing.image import ImageDataGenerator,load_img\r\n",
        "from tensorflow.keras.models import Sequential\r\n",
        "import numpy as np\r\n",
        "from glob import glob\r\n",
        "import matplotlib.pyplot as plt\r\n",
        "\r\n",
        "#import matplotlib.pyplot as plt"
      ],
      "execution_count": 6,
      "outputs": []
    },
    {
      "cell_type": "code",
      "metadata": {
        "id": "j3rvFOZIvNh1"
      },
      "source": [
        "IMAGE_SIZE = [224, 224]"
      ],
      "execution_count": 7,
      "outputs": []
    },
    {
      "cell_type": "code",
      "metadata": {
        "id": "wG6Kij1OvsKw"
      },
      "source": [
        "train_path = '/content/drive/MyDrive/kaggle2pneumonia/chest_xray/train'\r\n",
        "valid_path = '/content/drive/MyDrive/kaggle2pneumonia/chest_xray/test'"
      ],
      "execution_count": 8,
      "outputs": []
    },
    {
      "cell_type": "code",
      "metadata": {
        "id": "fdhm34qPwSQi",
        "colab": {
          "base_uri": "https://localhost:8080/"
        },
        "outputId": "38816315-2a84-4c52-aa24-050e904fe27e"
      },
      "source": [
        "vgg = VGG19(input_shape=IMAGE_SIZE + [3], weights='imagenet', include_top=False)"
      ],
      "execution_count": 9,
      "outputs": [
        {
          "output_type": "stream",
          "text": [
            "Downloading data from https://storage.googleapis.com/tensorflow/keras-applications/vgg19/vgg19_weights_tf_dim_ordering_tf_kernels_notop.h5\n",
            "80142336/80134624 [==============================] - 0s 0us/step\n"
          ],
          "name": "stdout"
        }
      ]
    },
    {
      "cell_type": "code",
      "metadata": {
        "colab": {
          "base_uri": "https://localhost:8080/"
        },
        "id": "c2WHVtdDwVuq",
        "outputId": "69fa6e34-913f-44f0-b01c-b50078e9f38d"
      },
      "source": [
        "vgg.input"
      ],
      "execution_count": 10,
      "outputs": [
        {
          "output_type": "execute_result",
          "data": {
            "text/plain": [
              "<KerasTensor: shape=(None, 224, 224, 3) dtype=float32 (created by layer 'input_1')>"
            ]
          },
          "metadata": {
            "tags": []
          },
          "execution_count": 10
        }
      ]
    },
    {
      "cell_type": "code",
      "metadata": {
        "id": "ov4BTAP3wYQp"
      },
      "source": [
        "for layer in vgg.layers:\r\n",
        "  layer.trainable = False"
      ],
      "execution_count": 11,
      "outputs": []
    },
    {
      "cell_type": "code",
      "metadata": {
        "colab": {
          "base_uri": "https://localhost:8080/"
        },
        "id": "hlJbf_zmxRvJ",
        "outputId": "e871c920-96a4-42cc-c8fb-31c5724a24b0"
      },
      "source": [
        "folders = glob('/content/drive/MyDrive/kaggle2pneumonia/chest_xray/train/*')\r\n",
        "print(len(folders))"
      ],
      "execution_count": 12,
      "outputs": [
        {
          "output_type": "stream",
          "text": [
            "2\n"
          ],
          "name": "stdout"
        }
      ]
    },
    {
      "cell_type": "code",
      "metadata": {
        "colab": {
          "base_uri": "https://localhost:8080/"
        },
        "id": "PbqqvRSgwzuQ",
        "outputId": "73bb1f10-3c60-4971-8dc8-5c30330d54ff"
      },
      "source": [
        "x = Flatten()(vgg.output)\r\n",
        "prediction = Dense(len(folders), activation='softmax')(x)\r\n",
        "model = Model(inputs=vgg.input, outputs=prediction)\r\n",
        "model.summary()"
      ],
      "execution_count": 13,
      "outputs": [
        {
          "output_type": "stream",
          "text": [
            "Model: \"model\"\n",
            "_________________________________________________________________\n",
            "Layer (type)                 Output Shape              Param #   \n",
            "=================================================================\n",
            "input_1 (InputLayer)         [(None, 224, 224, 3)]     0         \n",
            "_________________________________________________________________\n",
            "block1_conv1 (Conv2D)        (None, 224, 224, 64)      1792      \n",
            "_________________________________________________________________\n",
            "block1_conv2 (Conv2D)        (None, 224, 224, 64)      36928     \n",
            "_________________________________________________________________\n",
            "block1_pool (MaxPooling2D)   (None, 112, 112, 64)      0         \n",
            "_________________________________________________________________\n",
            "block2_conv1 (Conv2D)        (None, 112, 112, 128)     73856     \n",
            "_________________________________________________________________\n",
            "block2_conv2 (Conv2D)        (None, 112, 112, 128)     147584    \n",
            "_________________________________________________________________\n",
            "block2_pool (MaxPooling2D)   (None, 56, 56, 128)       0         \n",
            "_________________________________________________________________\n",
            "block3_conv1 (Conv2D)        (None, 56, 56, 256)       295168    \n",
            "_________________________________________________________________\n",
            "block3_conv2 (Conv2D)        (None, 56, 56, 256)       590080    \n",
            "_________________________________________________________________\n",
            "block3_conv3 (Conv2D)        (None, 56, 56, 256)       590080    \n",
            "_________________________________________________________________\n",
            "block3_conv4 (Conv2D)        (None, 56, 56, 256)       590080    \n",
            "_________________________________________________________________\n",
            "block3_pool (MaxPooling2D)   (None, 28, 28, 256)       0         \n",
            "_________________________________________________________________\n",
            "block4_conv1 (Conv2D)        (None, 28, 28, 512)       1180160   \n",
            "_________________________________________________________________\n",
            "block4_conv2 (Conv2D)        (None, 28, 28, 512)       2359808   \n",
            "_________________________________________________________________\n",
            "block4_conv3 (Conv2D)        (None, 28, 28, 512)       2359808   \n",
            "_________________________________________________________________\n",
            "block4_conv4 (Conv2D)        (None, 28, 28, 512)       2359808   \n",
            "_________________________________________________________________\n",
            "block4_pool (MaxPooling2D)   (None, 14, 14, 512)       0         \n",
            "_________________________________________________________________\n",
            "block5_conv1 (Conv2D)        (None, 14, 14, 512)       2359808   \n",
            "_________________________________________________________________\n",
            "block5_conv2 (Conv2D)        (None, 14, 14, 512)       2359808   \n",
            "_________________________________________________________________\n",
            "block5_conv3 (Conv2D)        (None, 14, 14, 512)       2359808   \n",
            "_________________________________________________________________\n",
            "block5_conv4 (Conv2D)        (None, 14, 14, 512)       2359808   \n",
            "_________________________________________________________________\n",
            "block5_pool (MaxPooling2D)   (None, 7, 7, 512)         0         \n",
            "_________________________________________________________________\n",
            "flatten (Flatten)            (None, 25088)             0         \n",
            "_________________________________________________________________\n",
            "dense (Dense)                (None, 2)                 50178     \n",
            "=================================================================\n",
            "Total params: 20,074,562\n",
            "Trainable params: 50,178\n",
            "Non-trainable params: 20,024,384\n",
            "_________________________________________________________________\n"
          ],
          "name": "stdout"
        }
      ]
    },
    {
      "cell_type": "code",
      "metadata": {
        "id": "8jQgJXONw4dU"
      },
      "source": [
        "from keras import optimizers\r\n",
        "\r\n",
        "\r\n",
        "adam = optimizers.Adam()\r\n",
        "model.compile(loss='binary_crossentropy',\r\n",
        "              optimizer=adam,\r\n",
        "              metrics=['accuracy'])"
      ],
      "execution_count": 14,
      "outputs": []
    },
    {
      "cell_type": "code",
      "metadata": {
        "id": "gmFtmy-Dw68b"
      },
      "source": [
        "train_datagen = ImageDataGenerator(\r\n",
        "    preprocessing_function=preprocess_input,\r\n",
        "    rotation_range=40,\r\n",
        "    width_shift_range=0.2,\r\n",
        "    height_shift_range=0.2,\r\n",
        "    shear_range=0.2,\r\n",
        "    zoom_range=0.2,\r\n",
        "    horizontal_flip=True,\r\n",
        "    fill_mode='nearest')"
      ],
      "execution_count": 15,
      "outputs": []
    },
    {
      "cell_type": "code",
      "metadata": {
        "id": "pA4zTMgdw8cA"
      },
      "source": [
        "test_datagen = ImageDataGenerator(\r\n",
        "    preprocessing_function=preprocess_input,\r\n",
        "    rotation_range=40,\r\n",
        "    width_shift_range=0.2,\r\n",
        "    height_shift_range=0.2,\r\n",
        "    shear_range=0.2,\r\n",
        "    zoom_range=0.2,\r\n",
        "    horizontal_flip=True,\r\n",
        "    fill_mode='nearest')"
      ],
      "execution_count": 16,
      "outputs": []
    },
    {
      "cell_type": "code",
      "metadata": {
        "colab": {
          "base_uri": "https://localhost:8080/"
        },
        "id": "1HSnzwkDw-8R",
        "outputId": "cd4595e8-d4c3-4902-d48f-f73c266d3050"
      },
      "source": [
        "train_set = train_datagen.flow_from_directory(train_path,\r\n",
        "                                                 target_size = (224, 224),\r\n",
        "                                                 batch_size = 32,\r\n",
        "                                                 class_mode = 'categorical')"
      ],
      "execution_count": 17,
      "outputs": [
        {
          "output_type": "stream",
          "text": [
            "Found 5216 images belonging to 2 classes.\n"
          ],
          "name": "stdout"
        }
      ]
    },
    {
      "cell_type": "code",
      "metadata": {
        "colab": {
          "base_uri": "https://localhost:8080/"
        },
        "id": "8W0XVmITxA58",
        "outputId": "83e9b384-3c92-4058-c2d4-2ac294d87f68"
      },
      "source": [
        "test_set = test_datagen.flow_from_directory(valid_path,\r\n",
        "                                            target_size = (224, 224),\r\n",
        "                                            batch_size = 32,\r\n",
        "                                            class_mode = 'categorical')"
      ],
      "execution_count": 18,
      "outputs": [
        {
          "output_type": "stream",
          "text": [
            "Found 624 images belonging to 2 classes.\n"
          ],
          "name": "stdout"
        }
      ]
    },
    {
      "cell_type": "code",
      "metadata": {
        "colab": {
          "base_uri": "https://localhost:8080/"
        },
        "id": "W9qXlJsrxDkY",
        "outputId": "2dc40bda-3344-4fdb-ce32-c19f60864e9a"
      },
      "source": [
        "from datetime import datetime\r\n",
        "from keras.callbacks import ModelCheckpoint\r\n",
        "\r\n",
        "\r\n",
        "\r\n",
        "checkpoint = ModelCheckpoint(filepath='mymodel3.h5', \r\n",
        "                               verbose=2, save_best_only=True)\r\n",
        "\r\n",
        "callbacks = [checkpoint]\r\n",
        "\r\n",
        "start = datetime.now()\r\n",
        "\r\n",
        "model_history=model.fit_generator(\r\n",
        "  train_set,\r\n",
        "  validation_data=test_set,\r\n",
        "  epochs=5,\r\n",
        "  steps_per_epoch=5,\r\n",
        "  validation_steps=32,\r\n",
        "    callbacks=callbacks ,verbose=2)\r\n",
        "\r\n",
        "\r\n",
        "duration = datetime.now() - start\r\n",
        "print(\"Training completed in time: \", duration)"
      ],
      "execution_count": 19,
      "outputs": [
        {
          "output_type": "stream",
          "text": [
            "/usr/local/lib/python3.6/dist-packages/tensorflow/python/keras/engine/training.py:1844: UserWarning: `Model.fit_generator` is deprecated and will be removed in a future version. Please use `Model.fit`, which supports generators.\n",
            "  warnings.warn('`Model.fit_generator` is deprecated and '\n"
          ],
          "name": "stderr"
        },
        {
          "output_type": "stream",
          "text": [
            "Epoch 1/5\n",
            "WARNING:tensorflow:Your input ran out of data; interrupting training. Make sure that your dataset or generator can generate at least `steps_per_epoch * epochs` batches (in this case, 32 batches). You may need to use the repeat() function when building your dataset.\n",
            "5/5 - 537s - loss: 5.2811 - accuracy: 0.7188 - val_loss: 3.4543 - val_accuracy: 0.6667\n",
            "\n",
            "Epoch 00001: val_loss improved from inf to 3.45427, saving model to mymodel3.h5\n",
            "Epoch 2/5\n",
            "5/5 - 118s - loss: 3.0342 - accuracy: 0.8000\n",
            "WARNING:tensorflow:Can save best model only with val_loss available, skipping.\n",
            "Epoch 3/5\n",
            "5/5 - 116s - loss: 1.5289 - accuracy: 0.8875\n",
            "WARNING:tensorflow:Can save best model only with val_loss available, skipping.\n",
            "Epoch 4/5\n",
            "5/5 - 115s - loss: 1.6442 - accuracy: 0.8562\n",
            "WARNING:tensorflow:Can save best model only with val_loss available, skipping.\n",
            "Epoch 5/5\n",
            "5/5 - 114s - loss: 1.0011 - accuracy: 0.9438\n",
            "WARNING:tensorflow:Can save best model only with val_loss available, skipping.\n",
            "Training completed in time:  0:16:55.210796\n"
          ],
          "name": "stdout"
        }
      ]
    },
    {
      "cell_type": "code",
      "metadata": {
        "colab": {
          "base_uri": "https://localhost:8080/",
          "height": 295
        },
        "id": "lJtr_Cn4xGcw",
        "outputId": "aab7ca47-b695-4927-9794-a47f7c78453c"
      },
      "source": [
        "plt.plot(model_history.history['accuracy'])\r\n",
        "plt.plot(model_history.history['val_accuracy'])\r\n",
        "plt.title('CNN Model accuracy values')\r\n",
        "plt.ylabel('Accuracy')\r\n",
        "plt.xlabel('Epoch')\r\n",
        "plt.legend(['Train', 'Test'], loc='upper left')\r\n",
        "plt.show()\r\n"
      ],
      "execution_count": 20,
      "outputs": [
        {
          "output_type": "display_data",
          "data": {
            "image/png": "[encoded data removed]",
            "text/plain": [
              "<Figure size 432x288 with 1 Axes>"
            ]
          },
          "metadata": {
            "tags": [],
            "needs_background": "light"
          }
        }
      ]
    },
    {
      "cell_type": "code",
      "metadata": {
        "colab": {
          "base_uri": "https://localhost:8080/",
          "height": 282
        },
        "id": "JO8eEg9-DFAT",
        "outputId": "9bce1aec-081b-4b85-e472-e3638d14dcc9"
      },
      "source": [
        "# loss\r\n",
        "plt.plot(model_history.history['loss'], label='train loss')\r\n",
        "plt.plot(model_history.history['val_loss'], label='val loss')\r\n",
        "plt.legend()\r\n",
        "plt.show()\r\n",
        "plt.savefig('LossVal_loss')"
      ],
      "execution_count": 21,
      "outputs": [
        {
          "output_type": "display_data",
          "data": {
            "image/png": "[encoded data removed]",
            "text/plain": [
              "<Figure size 432x288 with 1 Axes>"
            ]
          },
          "metadata": {
            "tags": [],
            "needs_background": "light"
          }
        },
        {
          "output_type": "display_data",
          "data": {
            "text/plain": [
              "<Figure size 432x288 with 0 Axes>"
            ]
          },
          "metadata": {
            "tags": []
          }
        }
      ]
    },
    {
      "cell_type": "code",
      "metadata": {
        "id": "mnM735grDIjY"
      },
      "source": [
        "import tensorflow as tf"
      ],
      "execution_count": 22,
      "outputs": []
    },
    {
      "cell_type": "code",
      "metadata": {
        "id": "dDAGeJw1DJFu"
      },
      "source": [
        "from keras.models import load_model"
      ],
      "execution_count": 23,
      "outputs": []
    },
    {
      "cell_type": "code",
      "metadata": {
        "id": "_iNDMKh7D-pO"
      },
      "source": [
        "model.save('model.h5')"
      ],
      "execution_count": 24,
      "outputs": []
    },
    {
      "cell_type": "code",
      "metadata": {
        "id": "SqRjCL8J8sv6"
      },
      "source": [
        "from tensorflow.keras.models import load_model\r\n",
        "from tensorflow.keras.preprocessing import image"
      ],
      "execution_count": 25,
      "outputs": []
    },
    {
      "cell_type": "code",
      "metadata": {
        "id": "lEC5f6KaEBCs"
      },
      "source": [
        "model=load_model('model.h5')"
      ],
      "execution_count": 26,
      "outputs": []
    },
    {
      "cell_type": "code",
      "metadata": {
        "id": "L-1TcZHMEPHM"
      },
      "source": [
        "img=image.load_img('/content/drive/MyDrive/kaggle2pneumonia/chest_xray/val/NORMAL/NORMAL2-IM-1427-0001.jpeg',target_size=(224,224))"
      ],
      "execution_count": 27,
      "outputs": []
    },
    {
      "cell_type": "code",
      "metadata": {
        "id": "JWaBXxq5EPgU"
      },
      "source": [
        "x=image.img_to_array(img)"
      ],
      "execution_count": 28,
      "outputs": []
    },
    {
      "cell_type": "code",
      "metadata": {
        "id": "YU_VOdsMEiOX"
      },
      "source": [
        "x=x/255"
      ],
      "execution_count": 29,
      "outputs": []
    },
    {
      "cell_type": "code",
      "metadata": {
        "colab": {
          "base_uri": "https://localhost:8080/"
        },
        "id": "yOtGWWYKElaQ",
        "outputId": "bf5941f1-b09d-4368-97ce-1c6c6611c1a3"
      },
      "source": [
        "import numpy as np\r\n",
        "x=np.expand_dims(x,axis=0)\r\n",
        "img_data=preprocess_input(x)\r\n",
        "img_data.shape"
      ],
      "execution_count": 30,
      "outputs": [
        {
          "output_type": "execute_result",
          "data": {
            "text/plain": [
              "(1, 224, 224, 3)"
            ]
          },
          "metadata": {
            "tags": []
          },
          "execution_count": 30
        }
      ]
    },
    {
      "cell_type": "code",
      "metadata": {
        "id": "7AOqdWUHEoQi"
      },
      "source": [
        "c=model.predict(img_data)"
      ],
      "execution_count": 31,
      "outputs": []
    },
    {
      "cell_type": "code",
      "metadata": {
        "id": "uit9e8OpEq9c"
      },
      "source": [
        "a=np.argmax(model.predict(img_data), axis=1)"
      ],
      "execution_count": 32,
      "outputs": []
    },
    {
      "cell_type": "code",
      "metadata": {
        "colab": {
          "base_uri": "https://localhost:8080/"
        },
        "id": "wgGRep5NEvu6",
        "outputId": "2054f63a-5b32-405b-fba6-655604a9e48a"
      },
      "source": [
        "a==1"
      ],
      "execution_count": 33,
      "outputs": [
        {
          "output_type": "execute_result",
          "data": {
            "text/plain": [
              "array([False])"
            ]
          },
          "metadata": {
            "tags": []
          },
          "execution_count": 33
        }
      ]
    },
    {
      "cell_type": "code",
      "metadata": {
        "colab": {
          "base_uri": "https://localhost:8080/",
          "height": 35
        },
        "id": "znzlnR78FIP0",
        "outputId": "452fc640-5b76-47d5-d73d-14f6cb6032ae"
      },
      "source": [
        "str(np.round(c[0][0],2))"
      ],
      "execution_count": 34,
      "outputs": [
        {
          "output_type": "execute_result",
          "data": {
            "application/vnd.google.colaboratory.intrinsic+json": {
              "type": "string"
            },
            "text/plain": [
              "'1.0'"
            ]
          },
          "metadata": {
            "tags": []
          },
          "execution_count": 34
        }
      ]
    },
    {
      "cell_type": "code",
      "metadata": {
        "id": "cs3DV39EP4fU"
      },
      "source": [
        "model_json = model.to_json()\r\n",
        "with open(\"model.json\", \"w\") as json_file:\r\n",
        "    json_file.write(model_json)"
      ],
      "execution_count": 36,
      "outputs": []
    }
  ]
}